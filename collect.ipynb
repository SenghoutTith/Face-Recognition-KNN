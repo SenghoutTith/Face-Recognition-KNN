{
 "cells": [
  {
   "cell_type": "code",
   "execution_count": 1,
   "metadata": {},
   "outputs": [],
   "source": [
    "import cv2\n",
    "import numpy as np\n",
    "import os\n",
    "import time\n",
    "from mtcnn.mtcnn import MTCNN"
   ]
  },
  {
   "cell_type": "code",
   "execution_count": 2,
   "metadata": {},
   "outputs": [],
   "source": [
    "skip = 0\n",
    "face_data = []\n",
    "SAVED_FILE = 'faces'\n",
    "fps = 0\n",
    "prev_time = time.time()\n",
    "FF = cv2.FONT_HERSHEY_SIMPLEX\n",
    "FZ = 0.5\n",
    "FT = 1\n",
    "face_cascade = cv2.CascadeClassifier('haarcascade_frontalface_default.xml')\n",
    "detector = MTCNN()"
   ]
  },
  {
   "cell_type": "code",
   "execution_count": 3,
   "metadata": {},
   "outputs": [],
   "source": [
    "def get_fps():\n",
    "    global prev_time\n",
    "    # Calculate and display FPS\n",
    "    curr_time = time.time()\n",
    "    fps = 1 / (curr_time - prev_time)\n",
    "    prev_time = curr_time\n",
    "    return f\"FPS: {fps:.2f}\""
   ]
  },
  {
   "cell_type": "code",
   "execution_count": 4,
   "metadata": {},
   "outputs": [],
   "source": [
    "file_name = 'Senghout'\n",
    "\n",
    "faces_img_path = os.path.join('faces_img', file_name)"
   ]
  },
  {
   "cell_type": "code",
   "execution_count": 5,
   "metadata": {},
   "outputs": [],
   "source": [
    "# file_name = input(\"Enter the name of the person: \")\n",
    "\n",
    "# faces_img_path = os.path.join('faces_img', file_name)\n",
    "\n",
    "# cap = cv2.VideoCapture(1)\n",
    "\n",
    "# detector = MTCNN()\n",
    "\n",
    "# while True:\n",
    "#     ret, frame = cap.read()\n",
    "\n",
    "#     if not ret:\n",
    "#         continue\n",
    "    \n",
    "#     small_frame = cv2.resize(frame, (0, 0), fx=0.5, fy=0.5)\n",
    "    \n",
    "#     # Detect faces using MTCNN\n",
    "#     results = detector.detect_faces(small_frame)\n",
    "\n",
    "#     if results:\n",
    "#         for detection in results:\n",
    "#             # Extract bounding box and confidence score\n",
    "#             x, y, w, h = detection['box']\n",
    "#             confidence = detection['confidence']\n",
    "\n",
    "#             if confidence < 0.9:  # Set a threshold for face detection\n",
    "#                 continue\n",
    "\n",
    "#             # Draw bounding box\n",
    "#             cv2.rectangle(small_frame, (x, y), (x+w, y+h), (0, 255, 255), FT)\n",
    "\n",
    "#             # Extract and preprocess the face section\n",
    "#             face_section = small_frame[y:y+h, x:x+w]\n",
    "#             face_section = cv2.resize(face_section, (100, 100))\n",
    "\n",
    "#             # Save every 5th small_frame\n",
    "#             skip += 1\n",
    "#             if skip % 5 == 0:\n",
    "#                 os.makedirs(faces_img_path, exist_ok=True)\n",
    "#                 path = os.path.join(faces_img_path, file_name + '.' + str(len(face_data)) + '.jpg')\n",
    "#                 cv2.imwrite(path, face_section)\n",
    "#                 face_data.append(face_section)\n",
    "#                 print(f\"Captured {len(face_data)} images\")\n",
    "\n",
    "\n",
    "#     cv2.putText(small_frame, get_fps(), (10, 20), FF, FZ, (0, 255, 255), FT)\n",
    "#     cv2.putText(small_frame, 'Saving: {}'.format(str(len(face_data))), (10, 40), FF, FZ, (255, 255, 255), FT)\n",
    "    \n",
    "#     # Display the video feed with detections\n",
    "#     cv2.imshow(\"Face Collection ^◊^ \", small_frame)\n",
    "\n",
    "#     # Break loop if 'q' is pressed\n",
    "#     key_pressed = cv2.waitKey(1) & 0xFF\n",
    "#     if key_pressed == ord('q'):\n",
    "#         break\n",
    "\n",
    "# cap.release()\n",
    "# cv2.destroyAllWindows()"
   ]
  },
  {
   "cell_type": "code",
   "execution_count": 6,
   "metadata": {},
   "outputs": [
    {
     "name": "stdout",
     "output_type": "stream",
     "text": [
      "Invalid image file: faces_img/Senghout/.DS_Store\n"
     ]
    }
   ],
   "source": [
    "detected_faces = []\n",
    "\n",
    "for idx, img_path in enumerate(os.listdir(faces_img_path)):\n",
    "    full_img_path = os.path.join(faces_img_path, img_path)\n",
    "    if img_path.endswith('.jpg'):\n",
    "        img = cv2.imread(full_img_path)\n",
    "        \n",
    "        if img is not None:\n",
    "            # Detect faces using MTCNN\n",
    "            detections = detector.detect_faces(img)\n",
    "            \n",
    "            # convert to gray\n",
    "            gray_img = cv2.cvtColor(img, cv2.COLOR_BGR2GRAY)\n",
    "\n",
    "            # Draw bounding boxes around detected faces\n",
    "            for detection in detections:\n",
    "                x, y, w, h = detection['box']\n",
    "                confidence = detection['confidence']\n",
    "\n",
    "                # Apply confidence threshold\n",
    "                if confidence > 0.9:\n",
    "                    \n",
    "                    # Extract the face region\n",
    "                    face = gray_img[y:y+h, x:x+w]\n",
    "                    \n",
    "                    # resize\n",
    "                    face = cv2.resize(face, (100, 100))\n",
    "                    \n",
    "                    # Draw rectangle around detected face\n",
    "                    cv2.rectangle(img, (x, y), (x + w, y + h), (236, 66, 245), 1)\n",
    "                \n",
    "                    # Display the image with detections\n",
    "                    cv2.imshow(str(idx), img)\n",
    "            \n",
    "                    # Wait for user input\n",
    "                    key = cv2.waitKey(0) & 0xFF\n",
    "\n",
    "                    # Press 's' to save the image\n",
    "                    if key == ord('s'):\n",
    "                        idx +=1\n",
    "                        detected_faces.append(face)\n",
    "\n",
    "                    # Press 'd' to delete the image\n",
    "                    elif key == ord('d'):\n",
    "                        os.remove(full_img_path)\n",
    "\n",
    "            # Close the image window\n",
    "            cv2.destroyWindow(\"Image v2\")\n",
    "\n",
    "        else:\n",
    "            print(f\"Failed to read image: {full_img_path}\")\n",
    "    else:\n",
    "        print(f\"Invalid image file: {full_img_path}\")\n",
    "\n",
    "# Final cleanup\n",
    "cv2.destroyAllWindows()"
   ]
  },
  {
   "cell_type": "code",
   "execution_count": 7,
   "metadata": {},
   "outputs": [
    {
     "data": {
      "text/plain": [
       "99"
      ]
     },
     "execution_count": 7,
     "metadata": {},
     "output_type": "execute_result"
    }
   ],
   "source": [
    "len(detected_faces)"
   ]
  },
  {
   "cell_type": "code",
   "execution_count": 8,
   "metadata": {},
   "outputs": [
    {
     "data": {
      "image/png": "[encoded data removed]",
      "text/plain": [
       "<Figure size 640x480 with 1 Axes>"
      ]
     },
     "metadata": {},
     "output_type": "display_data"
    }
   ],
   "source": [
    "import matplotlib.pyplot as plt\n",
    "\n",
    "plt.imshow(detected_faces[-1], cmap='gray')\n",
    "plt.show()"
   ]
  },
  {
   "cell_type": "code",
   "execution_count": 9,
   "metadata": {},
   "outputs": [
    {
     "data": {
      "text/plain": [
       "99"
      ]
     },
     "execution_count": 9,
     "metadata": {},
     "output_type": "execute_result"
    }
   ],
   "source": [
    "len(detected_faces)"
   ]
  },
  {
   "cell_type": "code",
   "execution_count": 10,
   "metadata": {},
   "outputs": [
    {
     "data": {
      "text/plain": [
       "(99, 100, 100)"
      ]
     },
     "execution_count": 10,
     "metadata": {},
     "output_type": "execute_result"
    }
   ],
   "source": [
    "detected_faces = np.asarray(detected_faces)\n",
    "detected_faces.shape"
   ]
  },
  {
   "cell_type": "code",
   "execution_count": 11,
   "metadata": {},
   "outputs": [
    {
     "data": {
      "text/plain": [
       "(99, 10000)"
      ]
     },
     "execution_count": 11,
     "metadata": {},
     "output_type": "execute_result"
    }
   ],
   "source": [
    "detected_faces = detected_faces.reshape((detected_faces.shape[0], -1))\n",
    "detected_faces.shape"
   ]
  },
  {
   "cell_type": "code",
   "execution_count": 12,
   "metadata": {},
   "outputs": [
    {
     "name": "stdout",
     "output_type": "stream",
     "text": [
      "Data saved at  faces/Senghout.npy\n"
     ]
    }
   ],
   "source": [
    "os.makedirs(SAVED_FILE, exist_ok=True)\n",
    "path = os.path.join(SAVED_FILE, file_name + '.npy')\n",
    "np.save(path, detected_faces)\n",
    "print(\"Data saved at  {}\".format(path))"
   ]
  }
 ],
 "metadata": {
  "kernelspec": {
   "display_name": "senghoutLastest",
   "language": "python",
   "name": "python3"
  },
  "language_info": {
   "codemirror_mode": {
    "name": "ipython",
    "version": 3
   },
   "file_extension": ".py",
   "mimetype": "text/x-python",
   "name": "python",
   "nbconvert_exporter": "python",
   "pygments_lexer": "ipython3",
   "version": "3.12.7"
  }
 },
 "nbformat": 4,
 "nbformat_minor": 2
}
